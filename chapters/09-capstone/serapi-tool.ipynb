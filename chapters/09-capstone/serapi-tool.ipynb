{
 "cells": [
  {
   "cell_type": "markdown",
   "metadata": {},
   "source": [
    "# SerpAPI Tool Helper"
   ]
  },
  {
   "cell_type": "markdown",
   "metadata": {},
   "source": [
    "This notebook provides a quick rundown of how we construct an async SerpAPI tool. Let's start by query SerpAPI synchronously via their Python SDK:"
   ]
  },
  {
   "cell_type": "code",
   "execution_count": 2,
   "metadata": {},
   "outputs": [
    {
     "name": "stdout",
     "output_type": "stream",
     "text": [
      "{'search_metadata': {'id': '68bf117ac4f20fc5e44a90df', 'status': 'Success', 'json_endpoint': 'https://serpapi.com/searches/4712b6f99910a564/68bf117ac4f20fc5e44a90df.json', 'pixel_position_endpoint': 'https://serpapi.com/searches/4712b6f99910a564/68bf117ac4f20fc5e44a90df.json_with_pixel_position', 'created_at': '2025-09-08 17:25:14 UTC', 'processed_at': '2025-09-08 17:25:14 UTC', 'google_url': 'https://www.google.com/search?q=latest+news+in+the+world&oq=latest+news+in+the+world&sourceid=chrome&ie=UTF-8', 'raw_html_file': 'https://serpapi.com/searches/4712b6f99910a564/68bf117ac4f20fc5e44a90df.html', 'total_time_taken': 1.49}, 'search_parameters': {'engine': 'google', 'q': 'latest news in the world', 'google_domain': 'google.com', 'device': 'desktop'}, 'search_information': {'query_displayed': 'latest news in the world', 'total_results': 4480000000, 'time_taken_displayed': 0.38, 'organic_results_state': 'Results for exact spelling'}, 'inline_videos': [{'position': 1, 'title': 'ABC World News Tonight with David Muir Full Broadcast ...', 'link': 'https://www.youtube.com/watch?v=CtEvfoiWhvk', 'thumbnail': 'https://encrypted-tbn0.gstatic.com/images?q=tbn:ANd9GcR2ZGrRtDULhCgCpenM9VVVMM7k6ztmshH0C17t8FEd05jz&s', 'channel': 'ABC News', 'duration': '19:46', 'platform': 'YouTube'}, {'position': 2, 'title': \"President Putin is 'playing games with the United States ...\", 'link': 'https://www.youtube.com/watch?v=4NoP7BulLR0', 'thumbnail': 'https://encrypted-tbn0.gstatic.com/images?q=tbn:ANd9GcQnKZyZZMqtLJzwKkvFtjSKY18s19PHp6AQXbuxpQH5DrIS&s', 'channel': 'ABC News', 'duration': '9:49', 'platform': 'YouTube'}, {'position': 3, 'title': 'Trump Speech LIVE | US President SHOCKS World; Drops ...', 'link': 'https://www.youtube.com/watch?v=0CJr1w3oYxk', 'thumbnail': 'https://encrypted-tbn0.gstatic.com/images?q=tbn:ANd9GcTKXeX4IwlcTViNIAns_tyrDRUCa_YtDTf_2h60z2PQu-Fl&s', 'channel': 'Times Of India', 'platform': 'YouTube'}], 'related_questions': [{'question': 'What is top 10 news today?', 'type': 'featured_snippet', 'title': \"Seat Sharing Gets Tougher For Bihar's Grand Alliance As 2 More Parties Join\", 'link': 'https://www.ndtv.com/', 'list': ['Kolkata Horror: Woman Gang-Raped By 2 Men After Her Birthday Party. ... ', 'PM Modi Seated In Last Row At Workshop As BJP Gears Up For Veep Polls. ... ', 'Man Killed By Third Wife. ... ', '\"Like A War Zone\": US Agents Storm Hyundai Plant Site, Many Koreans Arrested.'], 'source_logo': 'https://serpapi.com/searches/68bf117ac4f20fc5e44a90df/images/005abd773d04d1ae77e5386f55bdc4c7f0251d42b0ee598b3e24973730f35da0.png', 'next_page_token': 'eyJvbnMiOiIxMDA0MSIsImZjIjoiRXFFQkNtSkJUR3QwWDNaSGFuSXdlVlpyZFhkMlRUUmtia0ZaYUZKZlpsOVBkbkZ1YmxWelRXRmxNRlpDYVY5UVlVMHdTamx4ZDJKcWVtMVhaWEZ3TjA5bFMzUXdaRk5YUlhabWRXUk5hbUpNYm5ab2RVZE5VR2RyYXpWaGN5MVBXbHBtVTNWbmR4SVhaWGhIWDJGTGVqaERYMmxUZDJKclVESmxTMkV0UVhjYUlrRkdUVUZIUjNKRldFRndTMUJ6V0dONWVuQlZMWEZFVDFKbFVGb3dOM1ZaYmtFIiwiZmN2IjoiMyIsImVpIjoiZXhHX2FLejhDX2lTd2JrUDJlS2EtQXciLCJxYyI6IkNoaHNZWFJsYzNRZ2JtVjNjeUJwYmlCMGFHVWdkMjl5YkdRUUFERUFBQUFBcW5MR1AzMmNHamdfIiwicXVlc3Rpb24iOiJXaGF0IGlzIHRvcCAxMCBuZXdzIHRvZGF5PyIsImxrIjoiYzVPU0xNOUlMRkhJTEZZb3lTOVFNRFJReUVzdEI3RlRFaXNCIiwiYnMiOiJjLU95NFpJS3owZ3NVY2dzVmlqSkwxQXdORkRJU3kwSHNWTVNLLTBsSGlrYVNVdEpsdU5Td05YQ3lHVUgxcDVZbEtwUW5KLWJxcEJjV2xTVW1sZWlrRm9HSklzVk1oSUxDbEx6TXZQU0ZUTHpGRW95VWhYSzg0dHlVaFNLTXRNelNoVHk4c3Z0Slc1eUdkbEwyWlpUWWdoWEZKY213aE5BZDZsRDNHb0tWRi1TV3BTWFdKS1puNWVZQTNhNHZjUjlYaU10S1kxeUl0VnplWEdwd00wR1dwMlVtWjZlV2x3Q0NRU29jMEtESGUwbGpoc2F5VXZKZ296RnJyQzBPRkdBRVFBIiwiaWQiOiJmY19leEdfYUt6OENfaVN3YmtQMmVLYS1Bd180In0=', 'serpapi_link': 'https://serpapi.com/search.json?device=desktop&engine=google_related_questions&google_domain=google.com&next_page_token=eyJvbnMiOiIxMDA0MSIsImZjIjoiRXFFQkNtSkJUR3QwWDNaSGFuSXdlVlpyZFhkMlRUUmtia0ZaYUZKZlpsOVBkbkZ1YmxWelRXRmxNRlpDYVY5UVlVMHdTamx4ZDJKcWVtMVhaWEZ3TjA5bFMzUXdaRk5YUlhabWRXUk5hbUpNYm5ab2RVZE5VR2RyYXpWaGN5MVBXbHBtVTNWbmR4SVhaWGhIWDJGTGVqaERYMmxUZDJKclVESmxTMkV0UVhjYUlrRkdUVUZIUjNKRldFRndTMUJ6V0dONWVuQlZMWEZFVDFKbFVGb3dOM1ZaYmtFIiwiZmN2IjoiMyIsImVpIjoiZXhHX2FLejhDX2lTd2JrUDJlS2EtQXciLCJxYyI6IkNoaHNZWFJsYzNRZ2JtVjNjeUJwYmlCMGFHVWdkMjl5YkdRUUFERUFBQUFBcW5MR1AzMmNHamdfIiwicXVlc3Rpb24iOiJXaGF0IGlzIHRvcCAxMCBuZXdzIHRvZGF5PyIsImxrIjoiYzVPU0xNOUlMRkhJTEZZb3lTOVFNRFJReUVzdEI3RlRFaXNCIiwiYnMiOiJjLU95NFpJS3owZ3NVY2dzVmlqSkwxQXdORkRJU3kwSHNWTVNLLTBsSGlrYVNVdEpsdU5Td05YQ3lHVUgxcDVZbEtwUW5KLWJxcEJjV2xTVW1sZWlrRm9HSklzVk1oSUxDbEx6TXZQU0ZUTHpGRW95VWhYSzg0dHlVaFNLTXRNelNoVHk4c3Z0Slc1eUdkbEwyWlpUWWdoWEZKY213aE5BZDZsRDNHb0tWRi1TV3BTWFdKS1puNWVZQTNhNHZjUjlYaU10S1kxeUl0VnplWEdwd00wR1dwMlVtWjZlV2x3Q0NRU29jMEtESGUwbGpoc2F5VXZKZ296RnJyQzBPRkdBRVFBIiwiaWQiOiJmY19leEdfYUt6OENfaVN3YmtQMmVLYS1Bd180In0%3D'}, {'question': 'What are some current events happening in the world right now?', 'type': 'featured_snippet', 'title': 'World News', 'link': 'https://www.usnews.com/news/world', 'list': [\"London's Subway System Is Grinding to a Halt as Underground Staff Go on Strike. ... \", 'Israeli Military Spokesperson Issues Evacuation Warning for Residents in Gaza City. ... ', 'Almost 900 People Were Arrested at London Palestine Action Protest, Police Say.'], 'displayed_link': 'https://www.usnews.com › news › world', 'source_logo': 'https://serpapi.com/searches/68bf117ac4f20fc5e44a90df/images/005abd773d04d1ae77e5386f55bdc4c77fd7c887db5857cfe02c9c2bbe592f4e.png', 'next_page_token': 'eyJvbnMiOiIxMDA0MSIsImZjIjoiRXFFQkNtSkJUR3QwWDNaSGFuSXdlVlpyZFhkMlRUUmtia0ZaYUZKZlpsOVBkbkZ1YmxWelRXRmxNRlpDYVY5UVlVMHdTamx4ZDJKcWVtMVhaWEZ3TjA5bFMzUXdaRk5YUlhabWRXUk5hbUpNYm5ab2RVZE5VR2RyYXpWaGN5MVBXbHBtVTNWbmR4SVhaWGhIWDJGTGVqaERYMmxUZDJKclVESmxTMkV0UVhjYUlrRkdUVUZIUjNKRldFRndTMUJ6V0dONWVuQlZMWEZFVDFKbFVGb3dOM1ZaYmtFIiwiZmN2IjoiMyIsImVpIjoiZXhHX2FLejhDX2lTd2JrUDJlS2EtQXciLCJxYyI6IkNoaHNZWFJsYzNRZ2JtVjNjeUJwYmlCMGFHVWdkMjl5YkdRUUFERUFBQUFBcW5MR1AzMmNHamdfIiwicXVlc3Rpb24iOiJXaGF0IGFyZSBzb21lIGN1cnJlbnQgZXZlbnRzIGhhcHBlbmluZyBpbiB0aGUgd29ybGQgcmlnaHQgbm93PyIsImxrIjoiY3czRXdRMkFRQWdFd0Q1OGJTTVdRM1J6a0NoY09KVDJkUjZ6N2ExU2tDUlczTVR4Wk5JTGZQOFhWT2FrbXctWW81VG95T3RFMnRDQ1IzOCIsImJzIjoiYy1PeTRaSUt6MGdzVWNnc1ZpakpMMUF3TkZESVN5MEhzVk1TSy0wbEhpa2FTVXRKbHVOU3dOWEN5R1VIMXA1WWxLcFFuSi1icXBCY1dsU1VtbGVpa0ZvR0pJc1ZNaElMQ2xMek12UFNGVEx6RkVveVVoWEs4NHR5VWhTS010TXpTaFR5OHN2dEpXNXlHZGxMMlpaVFlnaFhGSmNtd2hOQWQ2bEQzR29LVkYtU1dwU1hXSktabjVlWUEzYTR2Y1I5WGlNdEtZMXlJdFZ6ZVhHcHdNMEdXcDJVbVo2ZVdsd0NDUVNvYzBLREhlMGxqaHNheVV2SmdvekZyckMwT0ZHQUVRQSIsImlkIjoiZmNfZXhHX2FLejhDX2lTd2JrUDJlS2EtQXdfNCJ9', 'serpapi_link': 'https://serpapi.com/search.json?device=desktop&engine=google_related_questions&google_domain=google.com&next_page_token=eyJvbnMiOiIxMDA0MSIsImZjIjoiRXFFQkNtSkJUR3QwWDNaSGFuSXdlVlpyZFhkMlRUUmtia0ZaYUZKZlpsOVBkbkZ1YmxWelRXRmxNRlpDYVY5UVlVMHdTamx4ZDJKcWVtMVhaWEZ3TjA5bFMzUXdaRk5YUlhabWRXUk5hbUpNYm5ab2RVZE5VR2RyYXpWaGN5MVBXbHBtVTNWbmR4SVhaWGhIWDJGTGVqaERYMmxUZDJKclVESmxTMkV0UVhjYUlrRkdUVUZIUjNKRldFRndTMUJ6V0dONWVuQlZMWEZFVDFKbFVGb3dOM1ZaYmtFIiwiZmN2IjoiMyIsImVpIjoiZXhHX2FLejhDX2lTd2JrUDJlS2EtQXciLCJxYyI6IkNoaHNZWFJsYzNRZ2JtVjNjeUJwYmlCMGFHVWdkMjl5YkdRUUFERUFBQUFBcW5MR1AzMmNHamdfIiwicXVlc3Rpb24iOiJXaGF0IGFyZSBzb21lIGN1cnJlbnQgZXZlbnRzIGhhcHBlbmluZyBpbiB0aGUgd29ybGQgcmlnaHQgbm93PyIsImxrIjoiY3czRXdRMkFRQWdFd0Q1OGJTTVdRM1J6a0NoY09KVDJkUjZ6N2ExU2tDUlczTVR4Wk5JTGZQOFhWT2FrbXctWW81VG95T3RFMnRDQ1IzOCIsImJzIjoiYy1PeTRaSUt6MGdzVWNnc1ZpakpMMUF3TkZESVN5MEhzVk1TSy0wbEhpa2FTVXRKbHVOU3dOWEN5R1VIMXA1WWxLcFFuSi1icXBCY1dsU1VtbGVpa0ZvR0pJc1ZNaElMQ2xMek12UFNGVEx6RkVveVVoWEs4NHR5VWhTS010TXpTaFR5OHN2dEpXNXlHZGxMMlpaVFlnaFhGSmNtd2hOQWQ2bEQzR29LVkYtU1dwU1hXSktabjVlWUEzYTR2Y1I5WGlNdEtZMXlJdFZ6ZVhHcHdNMEdXcDJVbVo2ZVdsd0NDUVNvYzBLREhlMGxqaHNheVV2SmdvekZyckMwT0ZHQUVRQSIsImlkIjoiZmNfZXhHX2FLejhDX2lTd2JrUDJlS2EtQXdfNCJ9'}, {'question': \"What is today's top 5 international news?\", 'type': 'featured_snippet', 'title': 'International News', 'link': 'https://abcnews.go.com/International', 'list': ['Israel says Houthi drone from Yemen hit.', '900 arrested at London pro-Palestinian protest.', 'Man dies in shark attack at Sydney beach.', 'Undersea cables cut in Red Sea, disrupting internet access in Asia and Mideast.', \"Daughter of Nazi officer who stole 'Portrait of a Lady' and her husband charged with cover-up.\"], 'displayed_link': 'https://abcnews.go.com › International', 'source_logo': 'https://serpapi.com/searches/68bf117ac4f20fc5e44a90df/images/005abd773d04d1ae77e5386f55bdc4c77440d558622152088c47ad2f18f26f08.png', 'next_page_token': 'eyJvbnMiOiIxMDA0MSIsImZjIjoiRXFFQkNtSkJUR3QwWDNaSGFuSXdlVlpyZFhkMlRUUmtia0ZaYUZKZlpsOVBkbkZ1YmxWelRXRmxNRlpDYVY5UVlVMHdTamx4ZDJKcWVtMVhaWEZ3TjA5bFMzUXdaRk5YUlhabWRXUk5hbUpNYm5ab2RVZE5VR2RyYXpWaGN5MVBXbHBtVTNWbmR4SVhaWGhIWDJGTGVqaERYMmxUZDJKclVESmxTMkV0UVhjYUlrRkdUVUZIUjNKRldFRndTMUJ6V0dONWVuQlZMWEZFVDFKbFVGb3dOM1ZaYmtFIiwiZmN2IjoiMyIsImVpIjoiZXhHX2FLejhDX2lTd2JrUDJlS2EtQXciLCJxYyI6IkNoaHNZWFJsYzNRZ2JtVjNjeUJwYmlCMGFHVWdkMjl5YkdRUUFERUFBQUFBcW5MR1AzMmNHamdfIiwicXVlc3Rpb24iOiJXaGF0IGlzIHRvZGF5J3MgdG9wIDUgaW50ZXJuYXRpb25hbCBuZXdzPyIsImxrIjoiYzVQU0tNOUlMRkhJTEZZb3lVOUpyRlFIMFFVS3BncVplU1dwUlhtSkpabjVlWWs1Q25tcDVjVUEiLCJicyI6ImMtT3k0WklLejBnc1VjZ3NWaWpKTDFBd05GRElTeTBIc1ZNU0stMGxIaWthU1V0Smx1TlN3TlhDeUdVSDFwNVlsS3BRbkotYnFwQmNXbFNVbWxlaWtGb0dKSXNWTWhJTENsTHpNdlBTRlRMekZFb3lVaFhLODR0eVVoU0tNdE16U2hUeThzdnRKVzV5R2RsTDJaWlRZZ2hYRkpjbXdoTkFkNmxEM0dvS1ZGLVNXcFNYV0pLWm41ZVlBM2E0dmNSOVhpTXRLWTF5SXRWemVYR3B3TTBHV3AyVW1aNmVXbHdDQ1FTb2MwS0RIZTBsamhzYXlVdkpnb3pGcnJDME9GR0FFUUEiLCJpZCI6ImZjX2V4R19hS3o4Q19pU3dia1AyZUthLUF3XzQifQ==', 'serpapi_link': 'https://serpapi.com/search.json?device=desktop&engine=google_related_questions&google_domain=google.com&next_page_token=eyJvbnMiOiIxMDA0MSIsImZjIjoiRXFFQkNtSkJUR3QwWDNaSGFuSXdlVlpyZFhkMlRUUmtia0ZaYUZKZlpsOVBkbkZ1YmxWelRXRmxNRlpDYVY5UVlVMHdTamx4ZDJKcWVtMVhaWEZ3TjA5bFMzUXdaRk5YUlhabWRXUk5hbUpNYm5ab2RVZE5VR2RyYXpWaGN5MVBXbHBtVTNWbmR4SVhaWGhIWDJGTGVqaERYMmxUZDJKclVESmxTMkV0UVhjYUlrRkdUVUZIUjNKRldFRndTMUJ6V0dONWVuQlZMWEZFVDFKbFVGb3dOM1ZaYmtFIiwiZmN2IjoiMyIsImVpIjoiZXhHX2FLejhDX2lTd2JrUDJlS2EtQXciLCJxYyI6IkNoaHNZWFJsYzNRZ2JtVjNjeUJwYmlCMGFHVWdkMjl5YkdRUUFERUFBQUFBcW5MR1AzMmNHamdfIiwicXVlc3Rpb24iOiJXaGF0IGlzIHRvZGF5J3MgdG9wIDUgaW50ZXJuYXRpb25hbCBuZXdzPyIsImxrIjoiYzVQU0tNOUlMRkhJTEZZb3lVOUpyRlFIMFFVS3BncVplU1dwUlhtSkpabjVlWWs1Q25tcDVjVUEiLCJicyI6ImMtT3k0WklLejBnc1VjZ3NWaWpKTDFBd05GRElTeTBIc1ZNU0stMGxIaWthU1V0Smx1TlN3TlhDeUdVSDFwNVlsS3BRbkotYnFwQmNXbFNVbWxlaWtGb0dKSXNWTWhJTENsTHpNdlBTRlRMekZFb3lVaFhLODR0eVVoU0tNdE16U2hUeThzdnRKVzV5R2RsTDJaWlRZZ2hYRkpjbXdoTkFkNmxEM0dvS1ZGLVNXcFNYV0pLWm41ZVlBM2E0dmNSOVhpTXRLWTF5SXRWemVYR3B3TTBHV3AyVW1aNmVXbHdDQ1FTb2MwS0RIZTBsamhzYXlVdkpnb3pGcnJDME9GR0FFUUEiLCJpZCI6ImZjX2V4R19hS3o4Q19pU3dia1AyZUthLUF3XzQifQ%3D%3D'}, {'question': 'What is the biggest news in the USA?', 'type': 'featured_snippet', 'title': \"Losing isn't the worst outcome.\", 'link': 'https://www.usatoday.com/', 'list': ['Deal sends South Korean workers home after massive Georgia raid. ... ', 'This Kennedy heir is making moves to take on RFK Jr. ... ', \"How to watch the 2025 MTV's Video Music Awards. ... \", \"Trump threatens 'WAR' in Chicago immigration enforcement: What to know.\"], 'source_logo': 'https://serpapi.com/searches/68bf117ac4f20fc5e44a90df/images/005abd773d04d1ae77e5386f55bdc4c76354efebe6d8af11edd0a1b2caa14874.png', 'next_page_token': 'eyJvbnMiOiIxMDA0MSIsImZjIjoiRXFFQkNtSkJUR3QwWDNaSGFuSXdlVlpyZFhkMlRUUmtia0ZaYUZKZlpsOVBkbkZ1YmxWelRXRmxNRlpDYVY5UVlVMHdTamx4ZDJKcWVtMVhaWEZ3TjA5bFMzUXdaRk5YUlhabWRXUk5hbUpNYm5ab2RVZE5VR2RyYXpWaGN5MVBXbHBtVTNWbmR4SVhaWGhIWDJGTGVqaERYMmxUZDJKclVESmxTMkV0UVhjYUlrRkdUVUZIUjNKRldFRndTMUJ6V0dONWVuQlZMWEZFVDFKbFVGb3dOM1ZaYmtFIiwiZmN2IjoiMyIsImVpIjoiZXhHX2FLejhDX2lTd2JrUDJlS2EtQXciLCJxYyI6IkNoaHNZWFJsYzNRZ2JtVjNjeUJwYmlCMGFHVWdkMjl5YkdRUUFERUFBQUFBcW5MR1AzMmNHamdfIiwicXVlc3Rpb24iOiJXaGF0IGlzIHRoZSBiaWdnZXN0IG5ld3MgaW4gdGhlIFVTQT8iLCJsayI6IkdoMTNhR0YwY3lCMGFHVWdZbWxuWjJWemRDQnVaWGR6SUdsdUlIVnpZUSIsImJzIjoiYy1PeTRaSUt6MGdzVWNnc1ZpakpMMUF3TkZESVN5MEhzVk1TSy0wbEhpa2FTVXRKbHVOU3dOWEN5R1VIMXA1WWxLcFFuSi1icXBCY1dsU1VtbGVpa0ZvR0pJc1ZNaElMQ2xMek12UFNGVEx6RkVveVVoWEs4NHR5VWhTS010TXpTaFR5OHN2dEpXNXlHZGxMMlpaVFlnaFhGSmNtd2hOQWQ2bEQzR29LVkYtU1dwU1hXSktabjVlWUEzYTR2Y1I5WGlNdEtZMXlJdFZ6ZVhHcHdNMEdXcDJVbVo2ZVdsd0NDUVNvYzBLREhlMGxqaHNheVV2SmdvekZyckMwT0ZHQUVRQSIsImlkIjoiZmNfZXhHX2FLejhDX2lTd2JrUDJlS2EtQXdfNCJ9', 'serpapi_link': 'https://serpapi.com/search.json?device=desktop&engine=google_related_questions&google_domain=google.com&next_page_token=eyJvbnMiOiIxMDA0MSIsImZjIjoiRXFFQkNtSkJUR3QwWDNaSGFuSXdlVlpyZFhkMlRUUmtia0ZaYUZKZlpsOVBkbkZ1YmxWelRXRmxNRlpDYVY5UVlVMHdTamx4ZDJKcWVtMVhaWEZ3TjA5bFMzUXdaRk5YUlhabWRXUk5hbUpNYm5ab2RVZE5VR2RyYXpWaGN5MVBXbHBtVTNWbmR4SVhaWGhIWDJGTGVqaERYMmxUZDJKclVESmxTMkV0UVhjYUlrRkdUVUZIUjNKRldFRndTMUJ6V0dONWVuQlZMWEZFVDFKbFVGb3dOM1ZaYmtFIiwiZmN2IjoiMyIsImVpIjoiZXhHX2FLejhDX2lTd2JrUDJlS2EtQXciLCJxYyI6IkNoaHNZWFJsYzNRZ2JtVjNjeUJwYmlCMGFHVWdkMjl5YkdRUUFERUFBQUFBcW5MR1AzMmNHamdfIiwicXVlc3Rpb24iOiJXaGF0IGlzIHRoZSBiaWdnZXN0IG5ld3MgaW4gdGhlIFVTQT8iLCJsayI6IkdoMTNhR0YwY3lCMGFHVWdZbWxuWjJWemRDQnVaWGR6SUdsdUlIVnpZUSIsImJzIjoiYy1PeTRaSUt6MGdzVWNnc1ZpakpMMUF3TkZESVN5MEhzVk1TSy0wbEhpa2FTVXRKbHVOU3dOWEN5R1VIMXA1WWxLcFFuSi1icXBCY1dsU1VtbGVpa0ZvR0pJc1ZNaElMQ2xMek12UFNGVEx6RkVveVVoWEs4NHR5VWhTS010TXpTaFR5OHN2dEpXNXlHZGxMMlpaVFlnaFhGSmNtd2hOQWQ2bEQzR29LVkYtU1dwU1hXSktabjVlWUEzYTR2Y1I5WGlNdEtZMXlJdFZ6ZVhHcHdNMEdXcDJVbVo2ZVdsd0NDUVNvYzBLREhlMGxqaHNheVV2SmdvekZyckMwT0ZHQUVRQSIsImlkIjoiZmNfZXhHX2FLejhDX2lTd2JrUDJlS2EtQXdfNCJ9'}], 'organic_results': [{'position': 1, 'title': 'World | Latest News & Updates', 'link': 'https://www.bbc.com/news/world', 'redirect_link': 'https://www.google.com/url?sa=t&source=web&rct=j&opi=89978449&url=https://www.bbc.com/news/world&ved=2ahUKEwjspfjD18mPAxV4STABHVmxBs8QFnoECCMQAQ', 'displayed_link': 'https://www.bbc.com › news › world', 'favicon': 'https://serpapi.com/searches/68bf117ac4f20fc5e44a90df/images/a1e5f2d48cb5e598291b88bdfff01798cff16e6d023b0c62d12765cd24da488e.png', 'snippet': 'World · Six killed by Palestinian gunmen at Jerusalem bus stop · French government on the brink as prime minister faces defeat in confidence vote · Lone ...', 'snippet_highlighted_words': ['Six killed by Palestinian gunmen at Jerusalem bus stop'], 'sitelinks': {'inline': [{'title': 'BBC World', 'link': 'https://www.bbc.com/news/world_radio_and_tv'}, {'title': 'Middle East', 'link': 'https://www.bbc.com/news/world/middle_east'}, {'title': 'Africa', 'link': 'https://www.bbc.com/news/world/africa'}, {'title': 'Europe', 'link': 'https://www.bbc.com/news/world/europe'}]}, 'source': 'BBC'}, {'position': 2, 'title': 'World news - breaking news, video, headlines and opinion', 'link': 'https://www.cnn.com/world', 'redirect_link': 'https://www.google.com/url?sa=t&source=web&rct=j&opi=89978449&url=https://www.cnn.com/world&ved=2ahUKEwjspfjD18mPAxV4STABHVmxBs8QFnoECCoQAQ', 'displayed_link': 'https://www.cnn.com › world', 'favicon': 'https://serpapi.com/searches/68bf117ac4f20fc5e44a90df/images/a1e5f2d48cb5e598291b88bdfff0179824154abd8473996c73264a5fae32e530.png', 'snippet': 'World · Police shoot dead fugitive father and find his three children missing for years in wilderness · Train collides with bus in Mexico, killing at least 8 ...', 'snippet_highlighted_words': ['Police shoot dead fugitive father and find his three children missing for years in wilderness'], 'source': 'CNN'}, {'position': 3, 'title': 'Breaking News, World News and Video from Al Jazeera', 'link': 'https://www.aljazeera.com/', 'redirect_link': 'https://www.google.com/url?sa=t&source=web&rct=j&opi=89978449&url=https://www.aljazeera.com/&ved=2ahUKEwjspfjD18mPAxV4STABHVmxBs8QFnoECC8QAQ', 'displayed_link': 'https://www.aljazeera.com', 'favicon': 'https://serpapi.com/searches/68bf117ac4f20fc5e44a90df/images/a1e5f2d48cb5e598291b88bdfff01798ac84368b0b93492f9b036da37cd34117.png', 'date': '2 hours ago', 'snippet': 'Al Jazeera · Alcaraz dethrones Sinner to win US Open in four sets · Spain run riot in Turkiye as Merino scores hat-trick in 6-0 victory · F1: ...', 'snippet_highlighted_words': ['Alcaraz dethrones Sinner to win US Open in four sets'], 'source': 'Al Jazeera'}, {'position': 4, 'title': 'World', 'link': 'https://www.cbsnews.com/world/', 'redirect_link': 'https://www.google.com/url?sa=t&source=web&rct=j&opi=89978449&url=https://www.cbsnews.com/world/&ved=2ahUKEwjspfjD18mPAxV4STABHVmxBs8QFnoECCwQAQ', 'displayed_link': 'https://www.cbsnews.com › World', 'favicon': 'https://serpapi.com/searches/68bf117ac4f20fc5e44a90df/images/a1e5f2d48cb5e598291b88bdfff01798eca50e721d755ae60db04720906526cb.png', 'snippet': \"Trump's aid cuts fuel anxiety as a deadly Ebola outbreak hits Congo · China's export growth in August slowed to weakest pace since start of year · A border- ...\", 'snippet_highlighted_words': [\"Trump's aid cuts fuel anxiety as a deadly Ebola outbreak hits Congo\"], 'source': 'CBS News'}, {'position': 5, 'title': 'World News | Latest Top Stories', 'link': 'https://www.reuters.com/world/', 'redirect_link': 'https://www.google.com/url?sa=t&source=web&rct=j&opi=89978449&url=https://www.reuters.com/world/&ved=2ahUKEwjspfjD18mPAxV4STABHVmxBs8QFnoECDIQAQ', 'displayed_link': 'https://www.reuters.com › world', 'favicon': 'https://serpapi.com/searches/68bf117ac4f20fc5e44a90df/images/a1e5f2d48cb5e598291b88bdfff01798de4d44098c05bb33b094d324f3d4563e.png', 'snippet': \"World · Palestinian gunmen kill six in Jerusalem bus stop shooting · Israel vows 'hurricane' of strikes on Gaza to force Hamas to accept surrender demand.\", 'snippet_highlighted_words': ['Palestinian gunmen kill six in Jerusalem bus stop shooting'], 'sitelinks': {'inline': [{'title': 'Econ World', 'link': 'https://www.reuters.com/markets/econ-world/'}, {'title': 'World reacts to Israeli attack...', 'link': 'https://www.reuters.com/world/middle-east/world-reacts-israeli-strike-iran-over-nuclear-programme-2025-06-13/'}, {'title': 'United States', 'link': 'https://www.reuters.com/world/us/'}, {'title': 'Middle East', 'link': 'https://www.reuters.com/world/middle-east/'}]}, 'source': 'Reuters'}, {'position': 6, 'title': 'NBC News - Breaking Headlines and Video Reports on World ...', 'link': 'https://www.nbcnews.com/', 'redirect_link': 'https://www.google.com/url?sa=t&source=web&rct=j&opi=89978449&url=https://www.nbcnews.com/&ved=2ahUKEwjspfjD18mPAxV4STABHVmxBs8QFnoECDQQAQ', 'displayed_link': 'https://www.nbcnews.com', 'favicon': 'https://serpapi.com/searches/68bf117ac4f20fc5e44a90df/images/a1e5f2d48cb5e598291b88bdfff017982ec7e93b5df255ee4f8469eace0e1e4d.png', 'snippet': 'Six dead following solo car crash in Napa County, California · A satellite view of a hurricane spiral. Hurricane Kiko weakening, may bring life-threatening ...', 'snippet_highlighted_words': ['Six dead following solo car crash in Napa County, California'], 'sitelinks': {'inline': [{'title': 'World', 'link': 'https://www.nbcnews.com/world'}, {'title': 'U.S. News', 'link': 'https://www.nbcnews.com/us-news'}, {'title': 'Latest Stories', 'link': 'https://www.nbcnews.com/latest-stories'}, {'title': 'Nightly News', 'link': 'https://www.nbcnews.com/nightly-news'}]}, 'source': 'NBC News'}, {'position': 7, 'title': 'Google News', 'link': 'https://news.google.com/', 'redirect_link': 'https://www.google.com/url?sa=t&source=web&rct=j&opi=89978449&url=https://news.google.com/&ved=2ahUKEwjspfjD18mPAxV4STABHVmxBs8QFnoECCsQAQ', 'displayed_link': 'https://news.google.com', 'favicon': 'https://serpapi.com/searches/68bf117ac4f20fc5e44a90df/images/a1e5f2d48cb5e598291b88bdfff0179837cd0be858cc2356d001ec913a18fba2.png', 'snippet': 'Read full articles, watch videos, browse thousands of titles and more on the \"Home page\" topic with Google News.', 'snippet_highlighted_words': ['Google News'], 'source': 'Google News'}], 'top_stories': [{'title': 'Palestinian gunmen kill six in Jerusalem bus stop shooting', 'link': 'https://www.reuters.com/world/middle-east/palestinian-gunmen-kill-six-jerusalem-bus-stop-shooting-2025-09-08/', 'source': 'Reuters', 'source_logo': 'https://serpapi.com/searches/68bf117ac4f20fc5e44a90df/images/a5bb2cfc859c037ab5d473b598f1b255c3e96cf6d7728e1c4d2f818c2c4ab388.png', 'date': '1 hour ago', 'thumbnail': 'https://serpapi.com/searches/68bf117ac4f20fc5e44a90df/images/a5bb2cfc859c037a20b746e879cdec3c3a50ed0919c32a01.jpeg'}, {'title': 'Israel bombs another Gaza City high-rise as US advances a new ceasefire proposal', 'link': 'https://apnews.com/article/israel-palestinians-hamas-war-news-09-08-2025-e91a0c8d415b489d5a8da42501cfc366', 'source': 'AP News', 'source_logo': 'https://serpapi.com/searches/68bf117ac4f20fc5e44a90df/images/a5bb2cfc859c037adaebeb36cc69e0a920d0aa11f9edb708947ffc8089bfeab0.png', 'date': '46 minutes ago', 'thumbnail': 'https://serpapi.com/searches/68bf117ac4f20fc5e44a90df/images/a5bb2cfc859c037a5c8da28cce28926d4caf76d5b1e830a1.jpeg'}, {'title': 'Police in Nepal open fire on protesters outside parliament, killing 17', 'link': 'https://www.cnn.com/2025/09/08/asia/nepal-social-media-ban-protesters-killed-intl', 'source': 'CNN', 'source_logo': 'https://serpapi.com/searches/68bf117ac4f20fc5e44a90df/images/a5bb2cfc859c037a4ecb0f637888b51a1070b18e08ca89007c1c350c01ac0dda.png', 'date': '5 hours ago', 'thumbnail': 'https://serpapi.com/searches/68bf117ac4f20fc5e44a90df/images/a5bb2cfc859c037adaf18430a0e0e4fbab62a31806dfa9fb.jpeg'}, {'title': 'A budget fiasco takes France to the brink', 'link': 'https://www.economist.com/europe/2025/09/08/a-budget-fiasco-takes-france-to-the-brink', 'source': 'The Economist', 'source_logo': 'https://serpapi.com/searches/68bf117ac4f20fc5e44a90df/images/a5bb2cfc859c037a66225cf6e400062e18670a7bd703083d7b91fd4fa7a6e0ee.png', 'date': '4 hours ago', 'thumbnail': 'https://serpapi.com/searches/68bf117ac4f20fc5e44a90df/images/a5bb2cfc859c037a6f4aa50e813061aa271e7f7e719c77a9.jpeg'}, {'title': 'Australian woman is sentenced to life for poisoning relatives with mushrooms', 'link': 'https://www.npr.org/2025/09/08/nx-s1-5533902/australia-erin-patterson-life-sentence-mushroom-murder', 'source': 'NPR', 'source_logo': 'https://serpapi.com/searches/68bf117ac4f20fc5e44a90df/images/a5bb2cfc859c037a21db517273ba2596a47c505118f9a63e8978a6383d61388e.png', 'date': '12 hours ago', 'thumbnail': 'https://serpapi.com/searches/68bf117ac4f20fc5e44a90df/images/a5bb2cfc859c037aaab91d314be7b99a46620702a3ba6227.jpeg'}, {'title': 'Harrowing details emerge after surfer killed by shark off popular beach in Australia: \"Really dramatic\"', 'link': 'https://www.cbsnews.com/news/shark-attack-details-surfer-killed-australia-mercury-psillakis/', 'source': 'CBS News', 'source_logo': 'https://serpapi.com/searches/68bf117ac4f20fc5e44a90df/images/a5bb2cfc859c037a2af09a1816b3d09aceaebe8c013af26c7200c22cf91630e4.png', 'date': '7 hours ago', 'thumbnail': 'https://serpapi.com/searches/68bf117ac4f20fc5e44a90df/images/a5bb2cfc859c037acc92baff92f2c48b8e35b6dc9968c0f4.jpeg'}], 'top_stories_link': 'https://www.google.com/search?sca_esv=2865fea3d3342d0d&udm=7&q=latest+news+in+the+world&sa=X&ved=2ahUKEwjspfjD18mPAxV4STABHVmxBs8Q8ccDKAR6BAhGEAY', 'top_stories_serpapi_link': 'https://serpapi.com/search.json?device=desktop&engine=google&google_domain=google.com&q=latest+news+in+the+world', 'related_searches': [{'block_position': 1, 'query': 'Breaking news today', 'link': 'https://www.google.com/search?sca_esv=2865fea3d3342d0d&q=Breaking+news+today&sa=X&ved=2ahUKEwjspfjD18mPAxV4STABHVmxBs8Q1QJ6BAgnEAE', 'serpapi_link': 'https://serpapi.com/search.json?device=desktop&engine=google&google_domain=google.com&q=Breaking+news+today'}, {'block_position': 1, 'query': 'Latest news in the world cnn', 'link': 'https://www.google.com/search?sca_esv=2865fea3d3342d0d&q=Latest+news+in+the+world+cnn&sa=X&ved=2ahUKEwjspfjD18mPAxV4STABHVmxBs8Q1QJ6BAg6EAE', 'serpapi_link': 'https://serpapi.com/search.json?device=desktop&engine=google&google_domain=google.com&q=Latest+news+in+the+world+cnn'}, {'block_position': 1, 'query': 'Latest news in the world live', 'link': 'https://www.google.com/search?sca_esv=2865fea3d3342d0d&q=Latest+news+in+the+world+live&sa=X&ved=2ahUKEwjspfjD18mPAxV4STABHVmxBs8Q1QJ6BAg1EAE', 'serpapi_link': 'https://serpapi.com/search.json?device=desktop&engine=google&google_domain=google.com&q=Latest+news+in+the+world+live'}, {'block_position': 1, 'query': 'Fox News', 'link': 'https://www.google.com/search?sca_esv=2865fea3d3342d0d&q=Fox+News&sa=X&ved=2ahUKEwjspfjD18mPAxV4STABHVmxBs8Q1QJ6BAgzEAE', 'serpapi_link': 'https://serpapi.com/search.json?device=desktop&engine=google&google_domain=google.com&q=Fox+News'}, {'block_position': 1, 'query': 'Bbc world news', 'link': 'https://www.google.com/search?sca_esv=2865fea3d3342d0d&q=Bbc+world+news&sa=X&ved=2ahUKEwjspfjD18mPAxV4STABHVmxBs8Q1QJ6BAgxEAE', 'serpapi_link': 'https://serpapi.com/search.json?device=desktop&engine=google&google_domain=google.com&q=Bbc+world+news'}, {'block_position': 1, 'query': 'CNN world news', 'link': 'https://www.google.com/search?sca_esv=2865fea3d3342d0d&q=CNN+world+news&sa=X&ved=2ahUKEwjspfjD18mPAxV4STABHVmxBs8Q1QJ6BAguEAE', 'serpapi_link': 'https://serpapi.com/search.json?device=desktop&engine=google&google_domain=google.com&q=CNN+world+news'}, {'block_position': 1, 'query': 'Bbc news', 'link': 'https://www.google.com/search?sca_esv=2865fea3d3342d0d&q=Bbc+news&sa=X&ved=2ahUKEwjspfjD18mPAxV4STABHVmxBs8Q1QJ6BAgpEAE', 'serpapi_link': 'https://serpapi.com/search.json?device=desktop&engine=google&google_domain=google.com&q=Bbc+news'}, {'block_position': 1, 'query': 'World news al Jazeera', 'link': 'https://www.google.com/search?sca_esv=2865fea3d3342d0d&q=World+news+al+Jazeera&sa=X&ved=2ahUKEwjspfjD18mPAxV4STABHVmxBs8Q1QJ6BAgoEAE', 'serpapi_link': 'https://serpapi.com/search.json?device=desktop&engine=google&google_domain=google.com&q=World+news+al+Jazeera'}], 'pagination': {'current': 1, 'next': 'https://www.google.com/search?q=latest+news+in+the+world&sca_esv=2865fea3d3342d0d&ei=exG_aKz8C_iSwbkP2eKa-Aw&start=10&sa=N&sstk=Ac65TH5Vq7mk2gl9EDR_WYsJuzua8Vb2FzqKH6ixYeojCFBf5o4foF3IrIxMP9wEwYCi4_F8RPYqtB-55h08q0zp6n_0bdbj0tajqQ&ved=2ahUKEwjspfjD18mPAxV4STABHVmxBs8Q8NMDegQIDhAW', 'other_pages': {'2': 'https://www.google.com/search?q=latest+news+in+the+world&sca_esv=2865fea3d3342d0d&ei=exG_aKz8C_iSwbkP2eKa-Aw&start=10&sa=N&sstk=Ac65TH5Vq7mk2gl9EDR_WYsJuzua8Vb2FzqKH6ixYeojCFBf5o4foF3IrIxMP9wEwYCi4_F8RPYqtB-55h08q0zp6n_0bdbj0tajqQ&ved=2ahUKEwjspfjD18mPAxV4STABHVmxBs8Q8tMDegQIDhAE', '3': 'https://www.google.com/search?q=latest+news+in+the+world&sca_esv=2865fea3d3342d0d&ei=exG_aKz8C_iSwbkP2eKa-Aw&start=20&sa=N&sstk=Ac65TH5Vq7mk2gl9EDR_WYsJuzua8Vb2FzqKH6ixYeojCFBf5o4foF3IrIxMP9wEwYCi4_F8RPYqtB-55h08q0zp6n_0bdbj0tajqQ&ved=2ahUKEwjspfjD18mPAxV4STABHVmxBs8Q8tMDegQIDhAG', '4': 'https://www.google.com/search?q=latest+news+in+the+world&sca_esv=2865fea3d3342d0d&ei=exG_aKz8C_iSwbkP2eKa-Aw&start=30&sa=N&sstk=Ac65TH5Vq7mk2gl9EDR_WYsJuzua8Vb2FzqKH6ixYeojCFBf5o4foF3IrIxMP9wEwYCi4_F8RPYqtB-55h08q0zp6n_0bdbj0tajqQ&ved=2ahUKEwjspfjD18mPAxV4STABHVmxBs8Q8tMDegQIDhAI', '5': 'https://www.google.com/search?q=latest+news+in+the+world&sca_esv=2865fea3d3342d0d&ei=exG_aKz8C_iSwbkP2eKa-Aw&start=40&sa=N&sstk=Ac65TH5Vq7mk2gl9EDR_WYsJuzua8Vb2FzqKH6ixYeojCFBf5o4foF3IrIxMP9wEwYCi4_F8RPYqtB-55h08q0zp6n_0bdbj0tajqQ&ved=2ahUKEwjspfjD18mPAxV4STABHVmxBs8Q8tMDegQIDhAK', '6': 'https://www.google.com/search?q=latest+news+in+the+world&sca_esv=2865fea3d3342d0d&ei=exG_aKz8C_iSwbkP2eKa-Aw&start=50&sa=N&sstk=Ac65TH5Vq7mk2gl9EDR_WYsJuzua8Vb2FzqKH6ixYeojCFBf5o4foF3IrIxMP9wEwYCi4_F8RPYqtB-55h08q0zp6n_0bdbj0tajqQ&ved=2ahUKEwjspfjD18mPAxV4STABHVmxBs8Q8tMDegQIDhAM', '7': 'https://www.google.com/search?q=latest+news+in+the+world&sca_esv=2865fea3d3342d0d&ei=exG_aKz8C_iSwbkP2eKa-Aw&start=60&sa=N&sstk=Ac65TH5Vq7mk2gl9EDR_WYsJuzua8Vb2FzqKH6ixYeojCFBf5o4foF3IrIxMP9wEwYCi4_F8RPYqtB-55h08q0zp6n_0bdbj0tajqQ&ved=2ahUKEwjspfjD18mPAxV4STABHVmxBs8Q8tMDegQIDhAO', '8': 'https://www.google.com/search?q=latest+news+in+the+world&sca_esv=2865fea3d3342d0d&ei=exG_aKz8C_iSwbkP2eKa-Aw&start=70&sa=N&sstk=Ac65TH5Vq7mk2gl9EDR_WYsJuzua8Vb2FzqKH6ixYeojCFBf5o4foF3IrIxMP9wEwYCi4_F8RPYqtB-55h08q0zp6n_0bdbj0tajqQ&ved=2ahUKEwjspfjD18mPAxV4STABHVmxBs8Q8tMDegQIDhAQ', '9': 'https://www.google.com/search?q=latest+news+in+the+world&sca_esv=2865fea3d3342d0d&ei=exG_aKz8C_iSwbkP2eKa-Aw&start=80&sa=N&sstk=Ac65TH5Vq7mk2gl9EDR_WYsJuzua8Vb2FzqKH6ixYeojCFBf5o4foF3IrIxMP9wEwYCi4_F8RPYqtB-55h08q0zp6n_0bdbj0tajqQ&ved=2ahUKEwjspfjD18mPAxV4STABHVmxBs8Q8tMDegQIDhAS', '10': 'https://www.google.com/search?q=latest+news+in+the+world&sca_esv=2865fea3d3342d0d&ei=exG_aKz8C_iSwbkP2eKa-Aw&start=90&sa=N&sstk=Ac65TH5Vq7mk2gl9EDR_WYsJuzua8Vb2FzqKH6ixYeojCFBf5o4foF3IrIxMP9wEwYCi4_F8RPYqtB-55h08q0zp6n_0bdbj0tajqQ&ved=2ahUKEwjspfjD18mPAxV4STABHVmxBs8Q8tMDegQIDhAU'}}, 'serpapi_pagination': {'current': 1, 'next_link': 'https://serpapi.com/search.json?device=desktop&engine=google&google_domain=google.com&q=latest+news+in+the+world&start=10', 'next': 'https://serpapi.com/search.json?device=desktop&engine=google&google_domain=google.com&q=latest+news+in+the+world&start=10', 'other_pages': {'2': 'https://serpapi.com/search.json?device=desktop&engine=google&google_domain=google.com&q=latest+news+in+the+world&start=10', '3': 'https://serpapi.com/search.json?device=desktop&engine=google&google_domain=google.com&q=latest+news+in+the+world&start=20', '4': 'https://serpapi.com/search.json?device=desktop&engine=google&google_domain=google.com&q=latest+news+in+the+world&start=30', '5': 'https://serpapi.com/search.json?device=desktop&engine=google&google_domain=google.com&q=latest+news+in+the+world&start=40', '6': 'https://serpapi.com/search.json?device=desktop&engine=google&google_domain=google.com&q=latest+news+in+the+world&start=50', '7': 'https://serpapi.com/search.json?device=desktop&engine=google&google_domain=google.com&q=latest+news+in+the+world&start=60', '8': 'https://serpapi.com/search.json?device=desktop&engine=google&google_domain=google.com&q=latest+news+in+the+world&start=70', '9': 'https://serpapi.com/search.json?device=desktop&engine=google&google_domain=google.com&q=latest+news+in+the+world&start=80', '10': 'https://serpapi.com/search.json?device=desktop&engine=google&google_domain=google.com&q=latest+news+in+the+world&start=90'}}}\n"
     ]
    }
   ],
   "source": [
    "from serpapi import GoogleSearch\n",
    "from getpass import getpass\n",
    "\n",
    "SERPAPI_API_KEY = getpass(\"Enter your SerpAPI API key: \")\n",
    "\n",
    "params = {\n",
    "    \"api_key\": SERPAPI_API_KEY,\n",
    "    \"engine\": \"google\",\n",
    "    \"q\": \"latest news in the world\",\n",
    "}\n",
    "\n",
    "search = GoogleSearch(params)\n",
    "results = search.get_dict()\n",
    "\n",
    "print(results)"
   ]
  },
  {
   "cell_type": "markdown",
   "metadata": {},
   "source": [
    "Our results are provided in the `\"organic_results\"` key:"
   ]
  },
  {
   "cell_type": "code",
   "execution_count": 3,
   "metadata": {},
   "outputs": [
    {
     "data": {
      "text/plain": [
       "[{'position': 1,\n",
       "  'title': 'World | Latest News & Updates',\n",
       "  'link': 'https://www.bbc.com/news/world',\n",
       "  'redirect_link': 'https://www.google.com/url?sa=t&source=web&rct=j&opi=89978449&url=https://www.bbc.com/news/world&ved=2ahUKEwjspfjD18mPAxV4STABHVmxBs8QFnoECCMQAQ',\n",
       "  'displayed_link': 'https://www.bbc.com › news › world',\n",
       "  'favicon': 'https://serpapi.com/searches/68bf117ac4f20fc5e44a90df/images/a1e5f2d48cb5e598291b88bdfff01798cff16e6d023b0c62d12765cd24da488e.png',\n",
       "  'snippet': 'World · Six killed by Palestinian gunmen at Jerusalem bus stop · French government on the brink as prime minister faces defeat in confidence vote · Lone ...',\n",
       "  'snippet_highlighted_words': ['Six killed by Palestinian gunmen at Jerusalem bus stop'],\n",
       "  'sitelinks': {'inline': [{'title': 'BBC World',\n",
       "     'link': 'https://www.bbc.com/news/world_radio_and_tv'},\n",
       "    {'title': 'Middle East',\n",
       "     'link': 'https://www.bbc.com/news/world/middle_east'},\n",
       "    {'title': 'Africa', 'link': 'https://www.bbc.com/news/world/africa'},\n",
       "    {'title': 'Europe', 'link': 'https://www.bbc.com/news/world/europe'}]},\n",
       "  'source': 'BBC'},\n",
       " {'position': 2,\n",
       "  'title': 'World news - breaking news, video, headlines and opinion',\n",
       "  'link': 'https://www.cnn.com/world',\n",
       "  'redirect_link': 'https://www.google.com/url?sa=t&source=web&rct=j&opi=89978449&url=https://www.cnn.com/world&ved=2ahUKEwjspfjD18mPAxV4STABHVmxBs8QFnoECCoQAQ',\n",
       "  'displayed_link': 'https://www.cnn.com › world',\n",
       "  'favicon': 'https://serpapi.com/searches/68bf117ac4f20fc5e44a90df/images/a1e5f2d48cb5e598291b88bdfff0179824154abd8473996c73264a5fae32e530.png',\n",
       "  'snippet': 'World · Police shoot dead fugitive father and find his three children missing for years in wilderness · Train collides with bus in Mexico, killing at least 8 ...',\n",
       "  'snippet_highlighted_words': ['Police shoot dead fugitive father and find his three children missing for years in wilderness'],\n",
       "  'source': 'CNN'},\n",
       " {'position': 3,\n",
       "  'title': 'Breaking News, World News and Video from Al Jazeera',\n",
       "  'link': 'https://www.aljazeera.com/',\n",
       "  'redirect_link': 'https://www.google.com/url?sa=t&source=web&rct=j&opi=89978449&url=https://www.aljazeera.com/&ved=2ahUKEwjspfjD18mPAxV4STABHVmxBs8QFnoECC8QAQ',\n",
       "  'displayed_link': 'https://www.aljazeera.com',\n",
       "  'favicon': 'https://serpapi.com/searches/68bf117ac4f20fc5e44a90df/images/a1e5f2d48cb5e598291b88bdfff01798ac84368b0b93492f9b036da37cd34117.png',\n",
       "  'date': '2 hours ago',\n",
       "  'snippet': 'Al Jazeera · Alcaraz dethrones Sinner to win US Open in four sets · Spain run riot in Turkiye as Merino scores hat-trick in 6-0 victory · F1: ...',\n",
       "  'snippet_highlighted_words': ['Alcaraz dethrones Sinner to win US Open in four sets'],\n",
       "  'source': 'Al Jazeera'},\n",
       " {'position': 4,\n",
       "  'title': 'World',\n",
       "  'link': 'https://www.cbsnews.com/world/',\n",
       "  'redirect_link': 'https://www.google.com/url?sa=t&source=web&rct=j&opi=89978449&url=https://www.cbsnews.com/world/&ved=2ahUKEwjspfjD18mPAxV4STABHVmxBs8QFnoECCwQAQ',\n",
       "  'displayed_link': 'https://www.cbsnews.com › World',\n",
       "  'favicon': 'https://serpapi.com/searches/68bf117ac4f20fc5e44a90df/images/a1e5f2d48cb5e598291b88bdfff01798eca50e721d755ae60db04720906526cb.png',\n",
       "  'snippet': \"Trump's aid cuts fuel anxiety as a deadly Ebola outbreak hits Congo · China's export growth in August slowed to weakest pace since start of year · A border- ...\",\n",
       "  'snippet_highlighted_words': [\"Trump's aid cuts fuel anxiety as a deadly Ebola outbreak hits Congo\"],\n",
       "  'source': 'CBS News'},\n",
       " {'position': 5,\n",
       "  'title': 'World News | Latest Top Stories',\n",
       "  'link': 'https://www.reuters.com/world/',\n",
       "  'redirect_link': 'https://www.google.com/url?sa=t&source=web&rct=j&opi=89978449&url=https://www.reuters.com/world/&ved=2ahUKEwjspfjD18mPAxV4STABHVmxBs8QFnoECDIQAQ',\n",
       "  'displayed_link': 'https://www.reuters.com › world',\n",
       "  'favicon': 'https://serpapi.com/searches/68bf117ac4f20fc5e44a90df/images/a1e5f2d48cb5e598291b88bdfff01798de4d44098c05bb33b094d324f3d4563e.png',\n",
       "  'snippet': \"World · Palestinian gunmen kill six in Jerusalem bus stop shooting · Israel vows 'hurricane' of strikes on Gaza to force Hamas to accept surrender demand.\",\n",
       "  'snippet_highlighted_words': ['Palestinian gunmen kill six in Jerusalem bus stop shooting'],\n",
       "  'sitelinks': {'inline': [{'title': 'Econ World',\n",
       "     'link': 'https://www.reuters.com/markets/econ-world/'},\n",
       "    {'title': 'World reacts to Israeli attack...',\n",
       "     'link': 'https://www.reuters.com/world/middle-east/world-reacts-israeli-strike-iran-over-nuclear-programme-2025-06-13/'},\n",
       "    {'title': 'United States', 'link': 'https://www.reuters.com/world/us/'},\n",
       "    {'title': 'Middle East',\n",
       "     'link': 'https://www.reuters.com/world/middle-east/'}]},\n",
       "  'source': 'Reuters'},\n",
       " {'position': 6,\n",
       "  'title': 'NBC News - Breaking Headlines and Video Reports on World ...',\n",
       "  'link': 'https://www.nbcnews.com/',\n",
       "  'redirect_link': 'https://www.google.com/url?sa=t&source=web&rct=j&opi=89978449&url=https://www.nbcnews.com/&ved=2ahUKEwjspfjD18mPAxV4STABHVmxBs8QFnoECDQQAQ',\n",
       "  'displayed_link': 'https://www.nbcnews.com',\n",
       "  'favicon': 'https://serpapi.com/searches/68bf117ac4f20fc5e44a90df/images/a1e5f2d48cb5e598291b88bdfff017982ec7e93b5df255ee4f8469eace0e1e4d.png',\n",
       "  'snippet': 'Six dead following solo car crash in Napa County, California · A satellite view of a hurricane spiral. Hurricane Kiko weakening, may bring life-threatening ...',\n",
       "  'snippet_highlighted_words': ['Six dead following solo car crash in Napa County, California'],\n",
       "  'sitelinks': {'inline': [{'title': 'World',\n",
       "     'link': 'https://www.nbcnews.com/world'},\n",
       "    {'title': 'U.S. News', 'link': 'https://www.nbcnews.com/us-news'},\n",
       "    {'title': 'Latest Stories',\n",
       "     'link': 'https://www.nbcnews.com/latest-stories'},\n",
       "    {'title': 'Nightly News',\n",
       "     'link': 'https://www.nbcnews.com/nightly-news'}]},\n",
       "  'source': 'NBC News'},\n",
       " {'position': 7,\n",
       "  'title': 'Google News',\n",
       "  'link': 'https://news.google.com/',\n",
       "  'redirect_link': 'https://www.google.com/url?sa=t&source=web&rct=j&opi=89978449&url=https://news.google.com/&ved=2ahUKEwjspfjD18mPAxV4STABHVmxBs8QFnoECCsQAQ',\n",
       "  'displayed_link': 'https://news.google.com',\n",
       "  'favicon': 'https://serpapi.com/searches/68bf117ac4f20fc5e44a90df/images/a1e5f2d48cb5e598291b88bdfff0179837cd0be858cc2356d001ec913a18fba2.png',\n",
       "  'snippet': 'Read full articles, watch videos, browse thousands of titles and more on the \"Home page\" topic with Google News.',\n",
       "  'snippet_highlighted_words': ['Google News'],\n",
       "  'source': 'Google News'}]"
      ]
     },
     "execution_count": 3,
     "metadata": {},
     "output_type": "execute_result"
    }
   ],
   "source": [
    "results[\"organic_results\"]"
   ]
  },
  {
   "cell_type": "markdown",
   "metadata": {},
   "source": [
    "We reformat this to extract only the most relevant information, such as the the title, source, link, and snippet. Let's use pydantic `BaseModel` to define this structure."
   ]
  },
  {
   "cell_type": "code",
   "execution_count": 4,
   "metadata": {},
   "outputs": [],
   "source": [
    "from pydantic import BaseModel\n",
    "\n",
    "class Article(BaseModel):\n",
    "    title: str\n",
    "    source: str\n",
    "    link: str\n",
    "    snippet: str\n",
    "\n",
    "    @classmethod\n",
    "    def from_serpapi_result(cls, result: dict) -> \"Article\":\n",
    "        return cls(\n",
    "            title=result[\"title\"],\n",
    "            source=result[\"source\"],\n",
    "            link=result[\"link\"],\n",
    "            snippet=result[\"snippet\"],\n",
    "        )"
   ]
  },
  {
   "cell_type": "code",
   "execution_count": 6,
   "metadata": {},
   "outputs": [
    {
     "data": {
      "text/plain": [
       "[Article(title='World | Latest News & Updates', source='BBC', link='https://www.bbc.com/news/world', snippet='World · Six killed by Palestinian gunmen at Jerusalem bus stop · French government on the brink as prime minister faces defeat in confidence vote · Lone ...'),\n",
       " Article(title='World news - breaking news, video, headlines and opinion', source='CNN', link='https://www.cnn.com/world', snippet='World · Police shoot dead fugitive father and find his three children missing for years in wilderness · Train collides with bus in Mexico, killing at least 8 ...'),\n",
       " Article(title='Breaking News, World News and Video from Al Jazeera', source='Al Jazeera', link='https://www.aljazeera.com/', snippet='Al Jazeera · Alcaraz dethrones Sinner to win US Open in four sets · Spain run riot in Turkiye as Merino scores hat-trick in 6-0 victory · F1: ...')]"
      ]
     },
     "execution_count": 6,
     "metadata": {},
     "output_type": "execute_result"
    }
   ],
   "source": [
    "articles = [Article.from_serpapi_result(result) for result in results[\"organic_results\"]]\n",
    "articles[0:3]"
   ]
  },
  {
   "cell_type": "markdown",
   "metadata": {},
   "source": [
    "## Using Async"
   ]
  },
  {
   "cell_type": "markdown",
   "metadata": {},
   "source": [
    "All of this works, but it unfortunately is not async and the SerpAPI SDK does not support async either, so we much query the API directly using the `aiohttp` library."
   ]
  },
  {
   "cell_type": "code",
   "execution_count": 7,
   "metadata": {},
   "outputs": [
    {
     "data": {
      "text/plain": [
       "[{'position': 1,\n",
       "  'title': 'World | Latest News & Updates',\n",
       "  'link': 'https://www.bbc.com/news/world',\n",
       "  'redirect_link': 'https://www.google.com/url?sa=t&source=web&rct=j&opi=89978449&url=https://www.bbc.com/news/world&ved=2ahUKEwjspfjD18mPAxV4STABHVmxBs8QFnoECCMQAQ',\n",
       "  'displayed_link': 'https://www.bbc.com › news › world',\n",
       "  'favicon': 'https://serpapi.com/searches/68bf117ac4f20fc5e44a90df/images/a1e5f2d48cb5e598291b88bdfff01798cff16e6d023b0c62d12765cd24da488e.png',\n",
       "  'snippet': 'World · Six killed by Palestinian gunmen at Jerusalem bus stop · French government on the brink as prime minister faces defeat in confidence vote · Lone ...',\n",
       "  'snippet_highlighted_words': ['Six killed by Palestinian gunmen at Jerusalem bus stop'],\n",
       "  'sitelinks': {'inline': [{'title': 'BBC World',\n",
       "     'link': 'https://www.bbc.com/news/world_radio_and_tv'},\n",
       "    {'title': 'Middle East',\n",
       "     'link': 'https://www.bbc.com/news/world/middle_east'},\n",
       "    {'title': 'Africa', 'link': 'https://www.bbc.com/news/world/africa'},\n",
       "    {'title': 'Europe', 'link': 'https://www.bbc.com/news/world/europe'}]},\n",
       "  'source': 'BBC'},\n",
       " {'position': 2,\n",
       "  'title': 'World news - breaking news, video, headlines and opinion',\n",
       "  'link': 'https://www.cnn.com/world',\n",
       "  'redirect_link': 'https://www.google.com/url?sa=t&source=web&rct=j&opi=89978449&url=https://www.cnn.com/world&ved=2ahUKEwjspfjD18mPAxV4STABHVmxBs8QFnoECCoQAQ',\n",
       "  'displayed_link': 'https://www.cnn.com › world',\n",
       "  'favicon': 'https://serpapi.com/searches/68bf117ac4f20fc5e44a90df/images/a1e5f2d48cb5e598291b88bdfff0179824154abd8473996c73264a5fae32e530.png',\n",
       "  'snippet': 'World · Police shoot dead fugitive father and find his three children missing for years in wilderness · Train collides with bus in Mexico, killing at least 8 ...',\n",
       "  'snippet_highlighted_words': ['Police shoot dead fugitive father and find his three children missing for years in wilderness'],\n",
       "  'source': 'CNN'},\n",
       " {'position': 3,\n",
       "  'title': 'Breaking News, World News and Video from Al Jazeera',\n",
       "  'link': 'https://www.aljazeera.com/',\n",
       "  'redirect_link': 'https://www.google.com/url?sa=t&source=web&rct=j&opi=89978449&url=https://www.aljazeera.com/&ved=2ahUKEwjspfjD18mPAxV4STABHVmxBs8QFnoECC8QAQ',\n",
       "  'displayed_link': 'https://www.aljazeera.com',\n",
       "  'favicon': 'https://serpapi.com/searches/68bf117ac4f20fc5e44a90df/images/a1e5f2d48cb5e598291b88bdfff01798ac84368b0b93492f9b036da37cd34117.png',\n",
       "  'date': '2 hours ago',\n",
       "  'snippet': 'Al Jazeera · Alcaraz dethrones Sinner to win US Open in four sets · Spain run riot in Turkiye as Merino scores hat-trick in 6-0 victory · F1: ...',\n",
       "  'snippet_highlighted_words': ['Alcaraz dethrones Sinner to win US Open in four sets'],\n",
       "  'source': 'Al Jazeera'},\n",
       " {'position': 4,\n",
       "  'title': 'World',\n",
       "  'link': 'https://www.cbsnews.com/world/',\n",
       "  'redirect_link': 'https://www.google.com/url?sa=t&source=web&rct=j&opi=89978449&url=https://www.cbsnews.com/world/&ved=2ahUKEwjspfjD18mPAxV4STABHVmxBs8QFnoECCwQAQ',\n",
       "  'displayed_link': 'https://www.cbsnews.com › World',\n",
       "  'favicon': 'https://serpapi.com/searches/68bf117ac4f20fc5e44a90df/images/a1e5f2d48cb5e598291b88bdfff01798eca50e721d755ae60db04720906526cb.png',\n",
       "  'snippet': \"Trump's aid cuts fuel anxiety as a deadly Ebola outbreak hits Congo · China's export growth in August slowed to weakest pace since start of year · A border- ...\",\n",
       "  'snippet_highlighted_words': [\"Trump's aid cuts fuel anxiety as a deadly Ebola outbreak hits Congo\"],\n",
       "  'source': 'CBS News'},\n",
       " {'position': 5,\n",
       "  'title': 'World News | Latest Top Stories',\n",
       "  'link': 'https://www.reuters.com/world/',\n",
       "  'redirect_link': 'https://www.google.com/url?sa=t&source=web&rct=j&opi=89978449&url=https://www.reuters.com/world/&ved=2ahUKEwjspfjD18mPAxV4STABHVmxBs8QFnoECDIQAQ',\n",
       "  'displayed_link': 'https://www.reuters.com › world',\n",
       "  'favicon': 'https://serpapi.com/searches/68bf117ac4f20fc5e44a90df/images/a1e5f2d48cb5e598291b88bdfff01798de4d44098c05bb33b094d324f3d4563e.png',\n",
       "  'snippet': \"World · Palestinian gunmen kill six in Jerusalem bus stop shooting · Israel vows 'hurricane' of strikes on Gaza to force Hamas to accept surrender demand.\",\n",
       "  'snippet_highlighted_words': ['Palestinian gunmen kill six in Jerusalem bus stop shooting'],\n",
       "  'sitelinks': {'inline': [{'title': 'Econ World',\n",
       "     'link': 'https://www.reuters.com/markets/econ-world/'},\n",
       "    {'title': 'World reacts to Israeli attack...',\n",
       "     'link': 'https://www.reuters.com/world/middle-east/world-reacts-israeli-strike-iran-over-nuclear-programme-2025-06-13/'},\n",
       "    {'title': 'United States', 'link': 'https://www.reuters.com/world/us/'},\n",
       "    {'title': 'Middle East',\n",
       "     'link': 'https://www.reuters.com/world/middle-east/'}]},\n",
       "  'source': 'Reuters'},\n",
       " {'position': 6,\n",
       "  'title': 'NBC News - Breaking Headlines and Video Reports on World ...',\n",
       "  'link': 'https://www.nbcnews.com/',\n",
       "  'redirect_link': 'https://www.google.com/url?sa=t&source=web&rct=j&opi=89978449&url=https://www.nbcnews.com/&ved=2ahUKEwjspfjD18mPAxV4STABHVmxBs8QFnoECDQQAQ',\n",
       "  'displayed_link': 'https://www.nbcnews.com',\n",
       "  'favicon': 'https://serpapi.com/searches/68bf117ac4f20fc5e44a90df/images/a1e5f2d48cb5e598291b88bdfff017982ec7e93b5df255ee4f8469eace0e1e4d.png',\n",
       "  'snippet': 'Six dead following solo car crash in Napa County, California · A satellite view of a hurricane spiral. Hurricane Kiko weakening, may bring life-threatening ...',\n",
       "  'snippet_highlighted_words': ['Six dead following solo car crash in Napa County, California'],\n",
       "  'sitelinks': {'inline': [{'title': 'World',\n",
       "     'link': 'https://www.nbcnews.com/world'},\n",
       "    {'title': 'U.S. News', 'link': 'https://www.nbcnews.com/us-news'},\n",
       "    {'title': 'Latest Stories',\n",
       "     'link': 'https://www.nbcnews.com/latest-stories'},\n",
       "    {'title': 'Nightly News',\n",
       "     'link': 'https://www.nbcnews.com/nightly-news'}]},\n",
       "  'source': 'NBC News'},\n",
       " {'position': 7,\n",
       "  'title': 'Google News',\n",
       "  'link': 'https://news.google.com/',\n",
       "  'redirect_link': 'https://www.google.com/url?sa=t&source=web&rct=j&opi=89978449&url=https://news.google.com/&ved=2ahUKEwjspfjD18mPAxV4STABHVmxBs8QFnoECCsQAQ',\n",
       "  'displayed_link': 'https://news.google.com',\n",
       "  'favicon': 'https://serpapi.com/searches/68bf117ac4f20fc5e44a90df/images/a1e5f2d48cb5e598291b88bdfff0179837cd0be858cc2356d001ec913a18fba2.png',\n",
       "  'snippet': 'Read full articles, watch videos, browse thousands of titles and more on the \"Home page\" topic with Google News.',\n",
       "  'snippet_highlighted_words': ['Google News'],\n",
       "  'source': 'Google News'}]"
      ]
     },
     "execution_count": 7,
     "metadata": {},
     "output_type": "execute_result"
    }
   ],
   "source": [
    "import aiohttp\n",
    "\n",
    "async with aiohttp.ClientSession() as session:\n",
    "    async with session.get(\n",
    "        \"https://serpapi.com/search\",\n",
    "        params=params\n",
    "    ) as response:\n",
    "        results = await response.json()\n",
    "\n",
    "results[\"organic_results\"]"
   ]
  },
  {
   "cell_type": "markdown",
   "metadata": {},
   "source": [
    "With that, we have all we need to build a fully async serpapi tool."
   ]
  },
  {
   "cell_type": "code",
   "execution_count": 8,
   "metadata": {},
   "outputs": [],
   "source": [
    "from langchain_core.tools import tool\n",
    "\n",
    "@tool\n",
    "async def serpapi(query: str) -> list[Article]:\n",
    "    \"\"\"Use this tool to search the web.\"\"\"\n",
    "    params = {\n",
    "        \"api_key\": SERPAPI_API_KEY,\n",
    "        \"engine\": \"google\",\n",
    "        \"q\": query,\n",
    "    }\n",
    "    async with aiohttp.ClientSession() as session:\n",
    "        async with session.get(\n",
    "            \"https://serpapi.com/search\",\n",
    "            params=params\n",
    "        ) as response:\n",
    "            results = await response.json()\n",
    "    return [Article.from_serpapi_result(result) for result in results[\"organic_results\"]]"
   ]
  },
  {
   "cell_type": "markdown",
   "metadata": {},
   "source": [
    "Note that because this tool is async, we cannot use `tool.func` to call it as before:"
   ]
  },
  {
   "cell_type": "code",
   "execution_count": 9,
   "metadata": {},
   "outputs": [],
   "source": [
    "serpapi.func"
   ]
  },
  {
   "cell_type": "markdown",
   "metadata": {},
   "source": [
    "Instead, we use `tool.coroutine`:"
   ]
  },
  {
   "cell_type": "code",
   "execution_count": 10,
   "metadata": {},
   "outputs": [
    {
     "data": {
      "text/plain": [
       "<function __main__.serpapi(query: str) -> list[__main__.Article]>"
      ]
     },
     "execution_count": 10,
     "metadata": {},
     "output_type": "execute_result"
    }
   ],
   "source": [
    "serpapi.coroutine"
   ]
  },
  {
   "cell_type": "markdown",
   "metadata": {},
   "source": [
    "---"
   ]
  }
 ],
 "metadata": {
  "kernelspec": {
   "display_name": "AurelioLabs_Langchain",
   "language": "python",
   "name": "python3"
  },
  "language_info": {
   "codemirror_mode": {
    "name": "ipython",
    "version": 3
   },
   "file_extension": ".py",
   "mimetype": "text/x-python",
   "name": "python",
   "nbconvert_exporter": "python",
   "pygments_lexer": "ipython3",
   "version": "3.12.10"
  }
 },
 "nbformat": 4,
 "nbformat_minor": 2
}
