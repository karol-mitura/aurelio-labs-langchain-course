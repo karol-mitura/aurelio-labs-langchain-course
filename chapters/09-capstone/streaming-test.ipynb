{
 "cells": [
  {
   "cell_type": "markdown",
   "metadata": {},
   "source": [
    "## Test Streaming API"
   ]
  },
  {
   "cell_type": "markdown",
   "metadata": {},
   "source": [
    "This notebook covers hitting the API `/invoke` endpoint and streaming the code to our terminal."
   ]
  },
  {
   "cell_type": "code",
   "execution_count": 1,
   "metadata": {},
   "outputs": [],
   "source": [
    "import requests\n",
    "\n",
    "def get_stream(query: str):\n",
    "    localsession = requests.Session()\n",
    "    with localsession.post(\n",
    "        f\"http://localhost:8000/invoke?content={query}\",\n",
    "        stream=True,\n",
    "        headers={\"Accept\": \"text/event-stream\"}\n",
    "    ) as response:\n",
    "        for token in response.iter_content(decode_unicode=True):\n",
    "            if token:  # Skip empty lines\n",
    "                print(token, end=\"\", flush=True)"
   ]
  },
  {
   "cell_type": "markdown",
   "metadata": {},
   "source": [
    "We can test with the simple `add` tool first:"
   ]
  },
  {
   "cell_type": "code",
   "execution_count": 2,
   "metadata": {},
   "outputs": [
    {
     "name": "stdout",
     "output_type": "stream",
     "text": [
      "<step><step_name>add</step_name>{\"x\":5,\"y\":5}</step><step><step_name>final_answer</step_name>{\"answer\":\"5 + 5 = 10\",\"tools_used\":[\"functions.add\"]}"
     ]
    }
   ],
   "source": [
    "get_stream(\"what is 5+5\")"
   ]
  },
  {
   "cell_type": "markdown",
   "metadata": {},
   "source": [
    "Now let's try the `serpapi` tool:"
   ]
  },
  {
   "cell_type": "code",
   "execution_count": 3,
   "metadata": {},
   "outputs": [
    {
     "name": "stdout",
     "output_type": "stream",
     "text": [
      "<step><step_name>serpapi</step_name>{\"query\":\"latest world news\"}</step><step><step_name>final_answer</step_name>{\"answer\":\"Here are some of the latest news highlights from around the world:\\n\\n1. **Six killed by Palestinian gunmen at a bus stop in Jerusalem** - This incident has raised tensions in the region. [Read more](https://www.bbc.com/news/world)\\n\\n2. **French government faces a confidence vote** - Prime Minister is on the brink of defeat as the government faces challenges. [Read more](https://www.bbc.com/news/world)\\n\\n3. **Israel vows a 'hurricane' of strikes on Gaza** - This comes in response to ongoing conflicts and demands for Hamas to surrender. [Read more](https://www.reuters.com/world/)\\n\\n4. **Al Jazeera reports on the East Jerusalem attack** - Six people were killed, and Israeli forces have responded with significant military action in Gaza. [Read more](https://www.aljazeera.com/)\\n\\nFor more detailed updates, you can check out sources like [CNN](https://www.cnn.com/), [Reuters](https://www.reuters.com/world/), and [NBC News](https://www.nbcnews.com/).\",\"tools_used\":[\"serpapi\"]}"
     ]
    }
   ],
   "source": [
    "get_stream(\"tell me about the latest news in the world\")"
   ]
  },
  {
   "cell_type": "code",
   "execution_count": 4,
   "metadata": {},
   "outputs": [
    {
     "name": "stdout",
     "output_type": "stream",
     "text": [
      "<step><step_name>serpapi</step_name>{\"query\": \"current temperature in Oslo\"}<step><step_name>multiply</step_name>{\"x\": 5, \"y\": 5}</step><step><step_name>final_answer</step_name>{\"answer\":\"The current temperature in Oslo is 61°F (approximately 16°C). The result of 5 * 5 is 25. Therefore, when you multiply the temperature (in Fahrenheit) by 5 * 5, you get 61 * 25 = 1525.\",\"tools_used\":[\"serpapi\",\"functions.multiply\"]}"
     ]
    }
   ],
   "source": [
    "get_stream(\n",
    "    \"how cold is it in oslo right now, what is 5*5, and what \"\n",
    "    \"do you get when multiplying those two numbers together?\"\n",
    ")"
   ]
  },
  {
   "cell_type": "code",
   "execution_count": 5,
   "metadata": {},
   "outputs": [
    {
     "name": "stdout",
     "output_type": "stream",
     "text": [
      "<step><step_name>serpapi</step_name>{\"query\": \"current date and time in Dubai\"}<step><step_name>serpapi</step_name>{\"query\": \"current date and time in Tokyo\"}<step><step_name>serpapi</step_name>{\"query\": \"current date and time in Berlin\"}</step><step><step_name>final_answer</step_name>{\"answer\": \"Current date and time in Dubai: 12:46 AM, Monday, September 8, 2025. Current date and time in Tokyo: 3:21 AM, Monday, September 8, 2025. Current date and time in Berlin: 3:26 AM, Monday, September 8, 2025.\", \"tools_used\": [\"serpapi\"]}<step><step_name>final_answer</step_name>{\"answer\": \"Current date and time in Dubai: 12:46 AM, Monday, September 8, 2025. Current date and time in Tokyo: 3:21 AM, Monday, September 8, 2025. Current date and time in Berlin: 3:26 AM, Monday, September 8, 2025.\", \"tools_used\": [\"serpapi\"]}"
     ]
    }
   ],
   "source": [
    "get_stream(\"what is the current date and time in these places: dubai, tokyo, berlin?\")"
   ]
  },
  {
   "cell_type": "markdown",
   "metadata": {},
   "source": [
    "---"
   ]
  }
 ],
 "metadata": {
  "kernelspec": {
   "display_name": "AurelioLabs_Langchain",
   "language": "python",
   "name": "python3"
  },
  "language_info": {
   "codemirror_mode": {
    "name": "ipython",
    "version": 3
   },
   "file_extension": ".py",
   "mimetype": "text/x-python",
   "name": "python",
   "nbconvert_exporter": "python",
   "pygments_lexer": "ipython3",
   "version": "3.12.10"
  }
 },
 "nbformat": 4,
 "nbformat_minor": 2
}
